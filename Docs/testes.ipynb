{
 "cells": [
  {
   "cell_type": "code",
   "execution_count": 183,
   "metadata": {},
   "outputs": [],
   "source": [
    "from webdriver_manager.chrome import ChromeDriverManager\n",
    "from selenium import webdriver\n",
    "from selenium.webdriver.chrome.service import Service\n",
    "from selenium.webdriver.common.by import By\n",
    "from anticaptchaofficial.recaptchav2proxyless import *\n",
    "from selenium.webdriver.common.action_chains import ActionChains\n",
    "import time\n",
    "import pyautogui as rb\n"
   ]
  },
  {
   "cell_type": "code",
   "execution_count": 184,
   "metadata": {},
   "outputs": [],
   "source": [
    "chave_api = '5cd7103194f321aff9d50f5e0df699d1'"
   ]
  },
  {
   "cell_type": "code",
   "execution_count": 185,
   "metadata": {},
   "outputs": [],
   "source": [
    "navegador = webdriver.Chrome(service=Service(ChromeDriverManager().install()))\n",
    "navegador.execute_cdp_cmd(\"Network.setUserAgentOverride\", {\n",
    "    \"userAgent\": \"Mozilla/5.0 (Windows NT 10.0; Win64; x64) AppleWebKit/537.36 (KHTML, like Gecko) Chrome/91.0.4472.164 Safari/537.36\"})\n",
    "link = \"https://www.atlas.netservicos.com.br/nethome/\"\n",
    "navegador.get(link)"
   ]
  },
  {
   "cell_type": "code",
   "execution_count": 186,
   "metadata": {},
   "outputs": [],
   "source": [
    "chave_captcha = navegador.find_element('id', 'g-recaptcha').get_attribute('data-sitekey')"
   ]
  },
  {
   "cell_type": "code",
   "execution_count": 187,
   "metadata": {},
   "outputs": [
    {
     "data": {
      "text/plain": [
       "'6LccTpMUAAAAACtzQ5sv99wFD4MVAD0jT_cFaEyF'"
      ]
     },
     "execution_count": 187,
     "metadata": {},
     "output_type": "execute_result"
    }
   ],
   "source": [
    "chave_captcha"
   ]
  },
  {
   "cell_type": "code",
   "execution_count": 188,
   "metadata": {},
   "outputs": [],
   "source": [
    "solver = recaptchaV2Proxyless()\n",
    "solver.set_verbose(1)\n",
    "solver.set_key(chave_api)\n",
    "solver.set_website_url(link)\n",
    "solver.set_website_key(chave_captcha)"
   ]
  },
  {
   "cell_type": "code",
   "execution_count": 189,
   "metadata": {},
   "outputs": [
    {
     "name": "stdout",
     "output_type": "stream",
     "text": [
      "making request to createTask\n",
      "created task with id 96800736\n",
      "making request to getTaskResult\n",
      "task is still processing\n",
      "making request to getTaskResult\n",
      "task is still processing\n",
      "making request to getTaskResult\n",
      "task is still processing\n",
      "making request to getTaskResult\n",
      "task is still processing\n",
      "making request to getTaskResult\n",
      "task is still processing\n",
      "making request to getTaskResult\n",
      "task is still processing\n",
      "making request to getTaskResult\n",
      "task is still processing\n",
      "making request to getTaskResult\n",
      "task is still processing\n",
      "making request to getTaskResult\n",
      "task is still processing\n",
      "making request to getTaskResult\n",
      "task is still processing\n",
      "making request to getTaskResult\n",
      "task is still processing\n",
      "making request to getTaskResult\n",
      "task is still processing\n",
      "making request to getTaskResult\n",
      "task is still processing\n",
      "making request to getTaskResult\n",
      "task is still processing\n",
      "making request to getTaskResult\n",
      "task is still processing\n",
      "making request to getTaskResult\n",
      "task is still processing\n",
      "making request to getTaskResult\n",
      "task is still processing\n",
      "making request to getTaskResult\n",
      "task is still processing\n",
      "making request to getTaskResult\n",
      "task is still processing\n",
      "making request to getTaskResult\n",
      "task is still processing\n",
      "making request to getTaskResult\n",
      "task is still processing\n",
      "making request to getTaskResult\n",
      "task is still processing\n",
      "making request to getTaskResult\n",
      "task is still processing\n",
      "making request to getTaskResult\n",
      "task is still processing\n",
      "making request to getTaskResult\n",
      "task is still processing\n",
      "making request to getTaskResult\n",
      "task is still processing\n",
      "making request to getTaskResult\n",
      "task is still processing\n",
      "making request to getTaskResult\n",
      "task is still processing\n",
      "making request to getTaskResult\n",
      "task is still processing\n",
      "making request to getTaskResult\n",
      "task is still processing\n",
      "making request to getTaskResult\n",
      "task is still processing\n",
      "making request to getTaskResult\n",
      "task is still processing\n",
      "making request to getTaskResult\n",
      "task is still processing\n",
      "making request to getTaskResult\n",
      "task is still processing\n",
      "making request to getTaskResult\n",
      "task is still processing\n",
      "making request to getTaskResult\n",
      "task is still processing\n",
      "making request to getTaskResult\n",
      "task is still processing\n",
      "making request to getTaskResult\n",
      "task is still processing\n",
      "making request to getTaskResult\n",
      "task is still processing\n",
      "making request to getTaskResult\n",
      "task is still processing\n",
      "making request to getTaskResult\n",
      "task is still processing\n",
      "making request to getTaskResult\n",
      "task is still processing\n",
      "making request to getTaskResult\n",
      "task is still processing\n",
      "making request to getTaskResult\n",
      "task is still processing\n",
      "making request to getTaskResult\n",
      "task is still processing\n",
      "making request to getTaskResult\n",
      "task is still processing\n",
      "making request to getTaskResult\n",
      "task is still processing\n",
      "making request to getTaskResult\n",
      "task is still processing\n",
      "making request to getTaskResult\n",
      "task is still processing\n",
      "making request to getTaskResult\n",
      "task is still processing\n",
      "making request to getTaskResult\n",
      "task is still processing\n",
      "making request to getTaskResult\n",
      "task is still processing\n",
      "making request to getTaskResult\n",
      "task is still processing\n",
      "making request to getTaskResult\n",
      "task is still processing\n",
      "making request to getTaskResult\n",
      "task is still processing\n",
      "making request to getTaskResult\n",
      "task is still processing\n",
      "making request to getTaskResult\n",
      "task is still processing\n",
      "making request to getTaskResult\n",
      "task is still processing\n",
      "making request to getTaskResult\n",
      "task is still processing\n",
      "making request to getTaskResult\n",
      "task is still processing\n",
      "making request to getTaskResult\n",
      "task is still processing\n",
      "making request to getTaskResult\n",
      "task is still processing\n",
      "making request to getTaskResult\n",
      "task is still processing\n",
      "making request to getTaskResult\n",
      "task is still processing\n",
      "making request to getTaskResult\n",
      "task is still processing\n",
      "making request to getTaskResult\n",
      "task is still processing\n",
      "making request to getTaskResult\n",
      "task is still processing\n",
      "making request to getTaskResult\n",
      "task is still processing\n",
      "making request to getTaskResult\n",
      "task is still processing\n",
      "making request to getTaskResult\n",
      "task solved\n"
     ]
    }
   ],
   "source": [
    "resposta = solver.solve_and_return_solution()"
   ]
  },
  {
   "cell_type": "code",
   "execution_count": 190,
   "metadata": {},
   "outputs": [
    {
     "data": {
      "text/plain": [
       "'03AAYGu2Sf-y4703Me13OvcaD9njGo6l843vWcxWVFKeawk0eLmW23XT59c5khdDpydOeTG82Y9y07zFCWjaObOptqlKNH3i3TRWV1egqdKs4wo0LcuMe5sfggtOxl0gKjv67kf5zrv5cQ8I4AgwJkYH3H7NvzfE0P60GUyWNROowwjDkeDfstAmMsIThihqM63nKcbwDOIXTLB7qlw_XuAef8W85mrYkeU6GZ899ZbH4W4E8iNeOixzJL9MOmxaBGAkQ1Ex3GqU8hlRtMkeEo_VFtTlCTOpsgdviaMkyrT6LAuo-NvfTaQwag0bJ5tBxbmW3LKaDTsGrVqPolG-RV6FaukglNGiiIumtxC5b8a87agWvnnjWVyb7wryPc6zkM5ExHh4hJXqS0Y2QkceEWMZ0BkWSx6B-NQwD85orC_l5bakC1kJ0aiiQbPvZHRbylX6LcKJcUf9I2FRjtEk_8tcoIjRoHbHtz53706gkageZHVIRk3Uv3mDzwvQRwoyFrHZ4cCKgkfnDYoCN0G6cBq0Bhqo8OpU1QKv4-w69eeHNe2s4kVeaPkPnukj2Iqy8yQG6bSbFNze44_w0tYQUeCYPvdzbseZnfmTa6pdFsnA-iUU9h_PHLHjna-RbczBDZ_8Aa6_n0WbjbkvLpK9282yUylvmbLPxa3A'"
      ]
     },
     "execution_count": 190,
     "metadata": {},
     "output_type": "execute_result"
    }
   ],
   "source": [
    "resposta"
   ]
  },
  {
   "cell_type": "code",
   "execution_count": 191,
   "metadata": {},
   "outputs": [],
   "source": [
    "navegador.execute_script(f\"document.getElementById('g-recaptcha-response').innerHTML = '{resposta}'\")"
   ]
  },
  {
   "cell_type": "code",
   "execution_count": 192,
   "metadata": {},
   "outputs": [],
   "source": [
    "navegador.find_element('id', 'login').send_keys('Z404013')\n",
    "navegador.find_element('id', 'passwd').send_keys('Cl*ro3045')"
   ]
  },
  {
   "cell_type": "code",
   "execution_count": 193,
   "metadata": {},
   "outputs": [
    {
     "name": "stdout",
     "output_type": "stream",
     "text": [
      "Total de iframes encontrados: 4\n"
     ]
    },
    {
     "data": {
      "text/plain": [
       "['a-73i06cnytuh7', 'iframe1', 'protocolhandler-invoker', 'c-73i06cnytuh7']"
      ]
     },
     "execution_count": 193,
     "metadata": {},
     "output_type": "execute_result"
    }
   ],
   "source": [
    "iframes = navegador.find_elements('tag name', 'iframe')\n",
    "\n",
    "print(f\"Total de iframes encontrados: {len(iframes)}\")\n",
    "\n",
    "list_frames = []\n",
    "for index, iframe in enumerate(iframes):\n",
    "    iframe_name = iframe.get_attribute('name') or iframe.get_attribute('id') or f'iframe{index}'\n",
    "    list_frames.append(iframe_name)\n",
    "list_frames"
   ]
  },
  {
   "cell_type": "code",
   "execution_count": 194,
   "metadata": {},
   "outputs": [
    {
     "data": {
      "text/plain": [
       "'a-73i06cnytuh7'"
      ]
     },
     "execution_count": 194,
     "metadata": {},
     "output_type": "execute_result"
    }
   ],
   "source": [
    "list_frames[0]"
   ]
  },
  {
   "cell_type": "code",
   "execution_count": 195,
   "metadata": {},
   "outputs": [],
   "source": [
    "new_frame = list_frames[0]\n",
    "navegador.switch_to.frame(new_frame)\n",
    "captcha_check_box = navegador.find_element('id', 'recaptcha-anchor')"
   ]
  },
  {
   "cell_type": "code",
   "execution_count": 197,
   "metadata": {},
   "outputs": [],
   "source": [
    "captcha_checkbox = navegador.find_element('id', 'recaptcha-anchor')\n",
    "\n",
    "# Use ActionChains para simular o clique no checkbox\n",
    "actions = ActionChains(navegador)\n",
    "actions.click(captcha_checkbox).perform()"
   ]
  },
  {
   "cell_type": "code",
   "execution_count": 158,
   "metadata": {},
   "outputs": [],
   "source": [
    "element = navegador.find_element('id', 'recaptcha-anchor')"
   ]
  },
  {
   "cell_type": "code",
   "execution_count": 196,
   "metadata": {},
   "outputs": [],
   "source": [
    "navegador.execute_script('arguments[0].setAttribute(\"class\", \"recaptcha-checkbox goog-inline-block recaptcha-checkbox-unchecked rc-anchor-checkbox recaptcha-checkbox-checked\");', captcha_check_box)\n",
    "navegador.execute_script('arguments[0].setAttribute(\"aria-checked\", \"true\");', captcha_check_box)\n",
    "navegador.execute_script('arguments[0].setAttribute(\"dir\", \"ltr\");', captcha_check_box)"
   ]
  },
  {
   "cell_type": "code",
   "execution_count": null,
   "metadata": {},
   "outputs": [],
   "source": []
  },
  {
   "cell_type": "code",
   "execution_count": null,
   "metadata": {},
   "outputs": [],
   "source": [
    "# <span class=\"recaptcha-checkbox goog-inline-block recaptcha-checkbox-unchecked rc-anchor-checkbox\" role=\"checkbox\" aria-checked=\"false\" id=\"recaptcha-anchor\" tabindex=\"0\" dir=\"ltr\" aria-labelledby=\"recaptcha-anchor-label\"><div class=\"recaptcha-checkbox-border\" role=\"presentation\"></div><div class=\"recaptcha-checkbox-borderAnimation\" role=\"presentation\"></div><div class=\"recaptcha-checkbox-spinner\" role=\"presentation\"><div class=\"recaptcha-checkbox-spinner-overlay\"></div></div><div class=\"recaptcha-checkbox-checkmark\" role=\"presentation\"></div></span>\n",
    "\n",
    "# <span class=\"recaptcha-checkbox goog-inline-block recaptcha-checkbox-unchecked rc-anchor-checkbox recaptcha-checkbox-checked\" role=\"checkbox\" aria-checked=\"true\" id=\"recaptcha-anchor\" dir=\"ltr\" aria-labelledby=\"recaptcha-anchor-label\" aria-disabled=\"false\" tabindex=\"0\" style=\"overflow: visible;\"><div class=\"recaptcha-checkbox-border\" role=\"presentation\" style=\"display: none;\"></div><div class=\"recaptcha-checkbox-borderAnimation\" role=\"presentation\" style=\"\"></div><div class=\"recaptcha-checkbox-spinner\" role=\"presentation\" style=\"display: none; animation-play-state: running; opacity: 0; transform: scale(0);\"><div class=\"recaptcha-checkbox-spinner-overlay\" style=\"animation-play-state: running;\"></div></div><div class=\"recaptcha-checkbox-checkmark\" role=\"presentation\" style=\"\"></div></span>"
   ]
  },
  {
   "cell_type": "code",
   "execution_count": 199,
   "metadata": {},
   "outputs": [],
   "source": [
    "navegador.switch_to.default_content()"
   ]
  },
  {
   "cell_type": "code",
   "execution_count": 200,
   "metadata": {},
   "outputs": [],
   "source": [
    "# Encontrar o elemento 'a' com o id 'loginBtn'\n",
    "button = navegador.find_element(\"id\", \"loginBtn\")"
   ]
  },
  {
   "cell_type": "code",
   "execution_count": 201,
   "metadata": {},
   "outputs": [
    {
     "ename": "ValueError",
     "evalue": "list.remove(x): x not in list",
     "output_type": "error",
     "traceback": [
      "\u001b[1;31m---------------------------------------------------------------------------\u001b[0m",
      "\u001b[1;31mValueError\u001b[0m                                Traceback (most recent call last)",
      "\u001b[1;32m~\\AppData\\Local\\Temp\\ipykernel_17540\\618328209.py\u001b[0m in \u001b[0;36m<module>\u001b[1;34m\u001b[0m\n\u001b[0;32m      1\u001b[0m \u001b[1;31m# Remover a classe 'disabled' do atributo 'class' do botão\u001b[0m\u001b[1;33m\u001b[0m\u001b[1;33m\u001b[0m\u001b[1;33m\u001b[0m\u001b[0m\n\u001b[0;32m      2\u001b[0m \u001b[0mclasses\u001b[0m \u001b[1;33m=\u001b[0m \u001b[0mbutton\u001b[0m\u001b[1;33m.\u001b[0m\u001b[0mget_attribute\u001b[0m\u001b[1;33m(\u001b[0m\u001b[1;34m\"class\"\u001b[0m\u001b[1;33m)\u001b[0m\u001b[1;33m.\u001b[0m\u001b[0msplit\u001b[0m\u001b[1;33m(\u001b[0m\u001b[1;34m\" \"\u001b[0m\u001b[1;33m)\u001b[0m\u001b[1;33m\u001b[0m\u001b[1;33m\u001b[0m\u001b[0m\n\u001b[1;32m----> 3\u001b[1;33m \u001b[0mclasses\u001b[0m\u001b[1;33m.\u001b[0m\u001b[0mremove\u001b[0m\u001b[1;33m(\u001b[0m\u001b[1;34m\"disabled\"\u001b[0m\u001b[1;33m)\u001b[0m\u001b[1;33m\u001b[0m\u001b[1;33m\u001b[0m\u001b[0m\n\u001b[0m\u001b[0;32m      4\u001b[0m \u001b[0mbutton_class\u001b[0m \u001b[1;33m=\u001b[0m \u001b[1;34m\" \"\u001b[0m\u001b[1;33m.\u001b[0m\u001b[0mjoin\u001b[0m\u001b[1;33m(\u001b[0m\u001b[0mclasses\u001b[0m\u001b[1;33m)\u001b[0m\u001b[1;33m\u001b[0m\u001b[1;33m\u001b[0m\u001b[0m\n\u001b[0;32m      5\u001b[0m \u001b[0mnavegador\u001b[0m\u001b[1;33m.\u001b[0m\u001b[0mexecute_script\u001b[0m\u001b[1;33m(\u001b[0m\u001b[1;34m\"arguments[0].setAttribute('class', arguments[1]);\"\u001b[0m\u001b[1;33m,\u001b[0m \u001b[0mbutton\u001b[0m\u001b[1;33m,\u001b[0m \u001b[0mbutton_class\u001b[0m\u001b[1;33m)\u001b[0m\u001b[1;33m\u001b[0m\u001b[1;33m\u001b[0m\u001b[0m\n",
      "\u001b[1;31mValueError\u001b[0m: list.remove(x): x not in list"
     ]
    }
   ],
   "source": [
    "# Remover a classe 'disabled' do atributo 'class' do botão\n",
    "classes = button.get_attribute(\"class\").split(\" \")\n",
    "classes.remove(\"disabled\")\n",
    "button_class = \" \".join(classes)\n",
    "navegador.execute_script(\"arguments[0].setAttribute('class', arguments[1]);\", button, button_class)"
   ]
  },
  {
   "cell_type": "code",
   "execution_count": 164,
   "metadata": {},
   "outputs": [],
   "source": [
    "# Atualizar o atributo 'href' para '#'\n",
    "navegador.execute_script(\"arguments[0].setAttribute('href', arguments[1]);\", button, \"#\")\n",
    "\n",
    "# Obter o HTML modificado do botão\n",
    "modified_html = button.get_attribute(\"outerHTML\")"
   ]
  },
  {
   "cell_type": "code",
   "execution_count": 165,
   "metadata": {},
   "outputs": [],
   "source": [
    "navegador.find_element('id', 'loginBtn').click()"
   ]
  },
  {
   "cell_type": "code",
   "execution_count": 127,
   "metadata": {},
   "outputs": [
    {
     "data": {
      "text/plain": [
       "'<a id=\"loginBtn\" class=\"button forms-authentication-button last-child default\" href=\"#\">Log On</a>'"
      ]
     },
     "execution_count": 127,
     "metadata": {},
     "output_type": "execute_result"
    }
   ],
   "source": [
    "modified_html"
   ]
  },
  {
   "cell_type": "code",
   "execution_count": 189,
   "metadata": {},
   "outputs": [
    {
     "data": {
      "text/plain": [
       "Point(x=621, y=405)"
      ]
     },
     "execution_count": 189,
     "metadata": {},
     "output_type": "execute_result"
    }
   ],
   "source": [
    "time.sleep(5)\n",
    "rb.position()"
   ]
  },
  {
   "cell_type": "code",
   "execution_count": 20,
   "metadata": {},
   "outputs": [],
   "source": [
    "time.sleep(5)\n",
    "rb.click(x=621, y=405, duration=2)"
   ]
  },
  {
   "cell_type": "code",
   "execution_count": 6,
   "metadata": {},
   "outputs": [
    {
     "ename": "AttributeError",
     "evalue": "'str' object has no attribute 'get'",
     "output_type": "error",
     "traceback": [
      "\u001b[1;31m---------------------------------------------------------------------------\u001b[0m",
      "\u001b[1;31mAttributeError\u001b[0m                            Traceback (most recent call last)",
      "\u001b[1;32m~\\AppData\\Local\\Temp\\ipykernel_12104\\3575138435.py\u001b[0m in \u001b[0;36m<module>\u001b[1;34m\u001b[0m\n\u001b[0;32m      1\u001b[0m \u001b[0mts\u001b[0m \u001b[1;33m=\u001b[0m \u001b[1;34m'fsfsfgs'\u001b[0m\u001b[1;33m\u001b[0m\u001b[1;33m\u001b[0m\u001b[0m\n\u001b[1;32m----> 2\u001b[1;33m \u001b[0mdd\u001b[0m \u001b[1;33m=\u001b[0m \u001b[0mts\u001b[0m\u001b[1;33m.\u001b[0m\u001b[0mget\u001b[0m\u001b[1;33m(\u001b[0m\u001b[1;34m'input'\u001b[0m\u001b[1;33m,\u001b[0m \u001b[1;33m{\u001b[0m\u001b[1;33m}\u001b[0m\u001b[1;33m)\u001b[0m\u001b[1;33m.\u001b[0m\u001b[0mget\u001b[0m\u001b[1;33m(\u001b[0m\u001b[1;34m'status'\u001b[0m\u001b[1;33m,\u001b[0m\u001b[1;34m''\u001b[0m\u001b[1;33m)\u001b[0m\u001b[1;33m\u001b[0m\u001b[1;33m\u001b[0m\u001b[0m\n\u001b[0m",
      "\u001b[1;31mAttributeError\u001b[0m: 'str' object has no attribute 'get'"
     ]
    }
   ],
   "source": [
    "ts = 'fsfsfgs'\n",
    "dd = ts.get('input', {}).get('status','')"
   ]
  },
  {
   "cell_type": "code",
   "execution_count": null,
   "metadata": {},
   "outputs": [],
   "source": [
    "from webdriver_manager.chrome import ChromeDriverManager\n",
    "from selenium import webdriver\n",
    "from selenium.webdriver.chrome.service import Service\n",
    "\n",
    "\n",
    "# Configuração do driver do Selenium (no exemplo, o Chrome)\n",
    "driver = webdriver.Chrome(service=Service(ChromeDriverManager().install()))\n",
    "driver.execute_cdp_cmd(\"Network.setUserAgentOverride\", {\n",
    "    \"userAgent\": \"Mozilla/5.0 (Windows NT 10.0; Win64; x64) AppleWebKit/537.36 (KHTML, like Gecko) Chrome/91.0.4472.164 Safari/537.36\"})\n",
    "\n",
    "# Carregar os cookies do arquivo\n",
    "with open('cookies.txt') as file:\n",
    "    cookies = file.read()\n",
    "\n",
    "# Converter a string de cookies para o formato adequado\n",
    "cookies = {cookie.split('=')[0]: cookie.split('=')[1] for cookie in cookies.split('; ')}\n",
    "\n",
    "# Abrir o site e definir os cookies\n",
    "driver.get('https://www.example.com')\n",
    "for name, value in cookies.items():\n",
    "    driver.add_cookie({'name': name, 'value': value})\n",
    "\n",
    "# Continuar o processo com o Selenium\n",
    "# Por exemplo, encontrar elementos na página, preencher formulários, etc.\n",
    "driver.find_element_by_id('element_id').send_keys('dados')\n",
    "driver.find_element_by_id('botao_submit').click()\n",
    "\n",
    "# Fechar o driver do Selenium\n",
    "driver.quit()"
   ]
  },
  {
   "cell_type": "code",
   "execution_count": 25,
   "metadata": {},
   "outputs": [],
   "source": [
    "bt = [\n",
    "    {'button':'1'},\n",
    "    {'button':'2'},\n",
    "    {'button':'6'},\n",
    "    {'button':'5'}]"
   ]
  },
  {
   "cell_type": "code",
   "execution_count": 26,
   "metadata": {},
   "outputs": [
    {
     "name": "stdout",
     "output_type": "stream",
     "text": [
      "1\n",
      "2\n",
      "6\n",
      "5\n"
     ]
    }
   ],
   "source": [
    "for b in bt:\n",
    "    print(b['button'])"
   ]
  },
  {
   "cell_type": "code",
   "execution_count": 95,
   "metadata": {},
   "outputs": [],
   "source": [
    "MAIS_ACESSOS = \"open_modal\"\n",
    "OPCOES_ACESSO = 'opcoes_login'\n",
    "CODIGO_OPERADOR = 'op'\n",
    "BOTAO_ACESSAR = 'btn_acessos'\n",
    "CAMPO_TECLADO = [\n",
    "    {'button':'/html/body/div[1]/section/div/section/div[1]/div[2]/div/div[1]/div[1]/form/fieldset/div[2]/div[1]/a[1]'},\n",
    "    {'button':'/html/body/div[1]/section/div/section/div[1]/div[2]/div/div[1]/div[1]/form/fieldset/div[2]/div[1]/a[2]'},\n",
    "    {'button':'/html/body/div[1]/section/div/section/div[1]/div[2]/div/div[1]/div[1]/form/fieldset/div[2]/div[1]/a[3]'},\n",
    "    {'button':'/html/body/div[1]/section/div/section/div[1]/div[2]/div/div[1]/div[1]/form/fieldset/div[2]/div[1]/a[4]'},\n",
    "    {'button':'/html/body/div[1]/section/div/section/div[1]/div[2]/div/div[1]/div[1]/form/fieldset/div[2]/div[1]/a[5]'},\n",
    "]\n",
    "CAMPO_TECLADO_ACESSAR = 'acessar'\n",
    "ACESSO_BASICO = 'rdBasico'\n",
    "CONTINUAR_ACESSO_BASICO = 'btn-continuar'\n",
    "MENU_CONTA_CORRENTE = '/html/body/div[1]/header/div[6]/div/div/nav/ul/li[2]/a'\n",
    "PAGINA_CONTA_CORRENTE = '/html/body/div[1]/header/div[6]/div/div/nav/ul/li[2]/ul/li[5]/a'\n",
    "EXTRATO_TODAS_CONTAS = '/html/body/div[1]/section/div/section/div[1]/div/div[1]/div/div/div[1]/div/ul/li[8]/a'\n",
    "PERIODO_DESEJADO = '/html/body/form[17]/div/div/div/div/table[2]/tbody/tr[3]/td[2]/select'\n",
    "BOX_SELECIONA_EXTRATO = 'chk'\n",
    "CONTINUAR_EXTRATO = '/html/body/form[17]/div/div/table/tbody/tr/td/input'\n",
    "DOWNLOAD_EXTRATO = '/html/body/form[17]/div/div/div/div/table[3]/tbody/tr[{}]/td[3]/a'\n",
    "SENHA = '260371'"
   ]
  },
  {
   "cell_type": "code",
   "execution_count": 77,
   "metadata": {},
   "outputs": [],
   "source": [
    "from webdriver_manager.chrome import ChromeDriverManager\n",
    "from selenium import webdriver\n",
    "from selenium.webdriver.chrome.service import Service\n",
    "from selenium.webdriver.support.ui import Select\n",
    "from selenium.webdriver.common.action_chains import ActionChains\n",
    "from time import sleep"
   ]
  },
  {
   "cell_type": "code",
   "execution_count": 31,
   "metadata": {},
   "outputs": [],
   "source": [
    "driver = webdriver.Chrome(service=Service(ChromeDriverManager().install()))\n",
    "driver.implicitly_wait(10)\n",
    "driver.fullscreen_window()\n",
    "driver.get('https://www.itau.com.br/empresas')"
   ]
  },
  {
   "cell_type": "code",
   "execution_count": 32,
   "metadata": {},
   "outputs": [],
   "source": [
    "driver.find_element('id', MAIS_ACESSOS).click()"
   ]
  },
  {
   "cell_type": "code",
   "execution_count": 33,
   "metadata": {},
   "outputs": [],
   "source": [
    "selecao = driver.find_element('id', OPCOES_ACESSO)\n",
    "selecao_opcao_acesso = Select(selecao)\n",
    "selecao_opcao_acesso.select_by_index('1')"
   ]
  },
  {
   "cell_type": "code",
   "execution_count": 34,
   "metadata": {},
   "outputs": [],
   "source": [
    "driver.find_element('id', CODIGO_OPERADOR).send_keys('866170060')"
   ]
  },
  {
   "cell_type": "code",
   "execution_count": 35,
   "metadata": {},
   "outputs": [],
   "source": [
    "driver.find_element('id', BOTAO_ACESSAR).click()"
   ]
  },
  {
   "cell_type": "code",
   "execution_count": 38,
   "metadata": {},
   "outputs": [],
   "source": [
    "splited_login = [key for key in SENHA]\n",
    "for key in splited_login:\n",
    "    for key_xpath in CAMPO_TECLADO:\n",
    "        button_value = driver.find_element('xpath', key_xpath['button']).text\n",
    "        if key in button_value:\n",
    "            driver.find_element('xpath', key_xpath['button']).click()"
   ]
  },
  {
   "cell_type": "code",
   "execution_count": 37,
   "metadata": {},
   "outputs": [],
   "source": [
    "driver.find_element('id', CAMPO_TECLADO_ACESSAR).click()"
   ]
  },
  {
   "cell_type": "code",
   "execution_count": 39,
   "metadata": {},
   "outputs": [],
   "source": [
    "driver.find_element('id', ACESSO_BASICO).click()\n",
    "driver.find_element('id', CONTINUAR_ACESSO_BASICO).click()"
   ]
  },
  {
   "cell_type": "code",
   "execution_count": 40,
   "metadata": {},
   "outputs": [],
   "source": [
    "acao = ActionChains(driver)\n",
    "acao.double_click(driver.find_element('xpath', MENU_CONTA_CORRENTE)).perform()"
   ]
  },
  {
   "cell_type": "code",
   "execution_count": 41,
   "metadata": {},
   "outputs": [],
   "source": [
    "acao.click(driver.find_element('xpath', PAGINA_CONTA_CORRENTE)).perform()"
   ]
  },
  {
   "cell_type": "code",
   "execution_count": 42,
   "metadata": {},
   "outputs": [],
   "source": [
    "driver.find_element('xpath', EXTRATO_TODAS_CONTAS).click()"
   ]
  },
  {
   "cell_type": "code",
   "execution_count": 48,
   "metadata": {},
   "outputs": [],
   "source": [
    "iframe_id = \"CORPO\"\n",
    "driver.switch_to.frame(iframe_id)"
   ]
  },
  {
   "cell_type": "code",
   "execution_count": 56,
   "metadata": {},
   "outputs": [],
   "source": [
    "selecao = driver.find_element('xpath', PERIODO_DESEJADO)\n",
    "selecao_opcao = Select(selecao)\n",
    "selecao_opcao.select_by_index('5')"
   ]
  },
  {
   "cell_type": "code",
   "execution_count": 62,
   "metadata": {},
   "outputs": [],
   "source": [
    "for extrato in range(1, 30):\n",
    "    driver.find_element('id', f'{BOX_SELECIONA_EXTRATO}{extrato}').click()"
   ]
  },
  {
   "cell_type": "code",
   "execution_count": 65,
   "metadata": {},
   "outputs": [],
   "source": [
    "driver.find_element('xpath', CONTINUAR_EXTRATO).click()"
   ]
  },
  {
   "cell_type": "code",
   "execution_count": 108,
   "metadata": {},
   "outputs": [
    {
     "name": "stdout",
     "output_type": "stream",
     "text": [
      "/html/body/form[17]/div/div/div/div/table[3]/tbody/tr[2]/td[3]/a\n",
      "/html/body/form[17]/div/div/div/div/table[3]/tbody/tr[3]/td[3]/a\n",
      "/html/body/form[17]/div/div/div/div/table[3]/tbody/tr[4]/td[3]/a\n"
     ]
    }
   ],
   "source": [
    "for extrato in range(2, 5):\n",
    "    print(DOWNLOAD_EXTRATO.format(extrato))\n",
    "    driver.find_element('xpath', DOWNLOAD_EXTRATO.format(extrato)).click()\n",
    "    sleep(5)\n",
    "    "
   ]
  }
 ],
 "metadata": {
  "kernelspec": {
   "display_name": "ACPAGAMENTOS_ENV_PYTHON37",
   "language": "python",
   "name": "python3"
  },
  "language_info": {
   "codemirror_mode": {
    "name": "ipython",
    "version": 3
   },
   "file_extension": ".py",
   "mimetype": "text/x-python",
   "name": "python",
   "nbconvert_exporter": "python",
   "pygments_lexer": "ipython3",
   "version": "3.7.9"
  },
  "orig_nbformat": 4
 },
 "nbformat": 4,
 "nbformat_minor": 2
}
